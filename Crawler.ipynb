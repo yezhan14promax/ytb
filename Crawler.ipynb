{
 "cells": [
  {
   "cell_type": "code",
   "execution_count": 1,
   "metadata": {},
   "outputs": [],
   "source": [
    "import csv\n",
    "from googleapiclient.discovery import build\n",
    "from functools import lru_cache\n",
    "import re\n",
    "import time\n"
   ]
  },
  {
   "cell_type": "code",
   "execution_count": 2,
   "metadata": {},
   "outputs": [],
   "source": [
    "list_sauf_channel=['UCyLC0byWRwTw16Gc74SPp9w','UCXPGLD87t-et9k7wL9SdWiw','UC3GevhlJJASaoR0KvMw07yw','UCZXVsmoFlW1_DB8aPjPKH2g','UC4pB8EtJH33rspAJn6od-LA','UC45cPWUHZkH8A8EUYpIokqQ',\n",
    "                   'UCgWr4TL7QlpuzkWc-A7EZ5Q','UCpUKPHCnwrJrgp-yIKbQZvg','UCJb8-9D8_wKvoqwEbtmL5WA','UCDwh5n7Lbv0ziaEoLOStWbw','UCo4fbxEi8lnihAiuM7e3yjQ','UCpaDbyII6svJ-ctr_LsLSJA',\n",
    "                   'UCcsG8ip1to_Y9OZ2SAQN1MQ']"
   ]
  },
  {
   "cell_type": "code",
   "execution_count": 18,
   "metadata": {},
   "outputs": [],
   "source": [
    "\n",
    "\n",
    "def get_channel_id_list(list_sauf_channel, channel_id_list):\n",
    "    youtube = build('youtube', 'v3', developerKey=api_key)\n",
    "    while len(channel_id_list) < 50:\n",
    "        request = youtube.search().list(\n",
    "            part=\"snippet\",\n",
    "            q=\"SHEIN haul\",\n",
    "            type=\"video\",\n",
    "            maxResults=50\n",
    "        )\n",
    "        response = request.execute()\n",
    "        for item in response['items']:\n",
    "            channel_id = item['snippet']['channelId']\n",
    "            channel_request = youtube.channels().list(\n",
    "                part=\"statistics\",\n",
    "                id=channel_id\n",
    "            )\n",
    "            channel_response = channel_request.execute()\n",
    "            subscriber_count = int(channel_response['items'][0]['statistics']['subscriberCount'])\n",
    "            if subscriber_count > 1000 and channel_id not in list_sauf_channel and channel_id not in channel_id_list:\n",
    "                channel_id_list.append(channel_id)\n",
    "                if len(channel_id_list) >= 50:\n",
    "                    break\n",
    "        if len(channel_id_list) < 50:\n",
    "            page_token = response.get('nextPageToken')\n",
    "            if not page_token:\n",
    "                break\n",
    "    return channel_id_list\n",
    "\n"
   ]
  },
  {
   "cell_type": "code",
   "execution_count": 19,
   "metadata": {},
   "outputs": [
    {
     "name": "stdout",
     "output_type": "stream",
     "text": [
      "['UC07y7iTnGdPVAmXM4a5L4Lw', 'UCi1iEmFwYNdlIcVD7wQOZkQ', 'UC9siCrfH9s9xi81j_HZ6v2g', 'UCS7SSybHozNW41KGfS1HeDw', 'UCs0YbZMZhcK1-zlnquUmXzQ', 'UCA0oZ63wytik-f8HCz_umEQ', 'UCa9siXYE9McabZSTOkhnUtg', 'UCxB7jMnHekMzHsOl9iZpXrA', 'UCmiRYR2EBAyj1daXoeKgA3w', 'UCHovuVgjU-NbdrvE2T71G9Q', 'UCAYZMd0jq17keWZ_ePj7D9A', 'UCN772dQe9Cf8fHfRj0-1Dow', 'UCqQ7QD3Jx3E3x1SiUMBGA0Q', 'UCVoNavsZWF2v-aJmCJECveA', 'UCBLzhBiZVCy0MDyhv6rceJQ', 'UC_4d9fv7RlSG3SmJCufn5rw', 'UCo3pd8GKCCbmr7j3GtWXtHQ', 'UCHb7zVC1mahUD0ZE7FzkFdg', 'UCUlv7OfOe60ypHRuBPuGoRg', 'UCUkA1AvpQvlxn6Dx_lgSsuw', 'UCejRq8yH9ZVEOAgNu-LBHxA', 'UCSy6z702Agxpi9hFdRXwucg', 'UCSTF94p_V8BFmeae8w4XkPg', 'UCjacRo8crmvJuQt6nyFXyBg', 'UCzYwArlTP8OLsROCsEIYaww', 'UCXony-AJugf4nmQmN1CIIng', 'UCil5C5LHxeMD-uIatMBT3EQ', 'UCSvCxPPKTHkVQC8My9Aye-w', 'UCucot-Zp428OwkyRm2I7v2Q', 'UCetWvHjRQ2tHCwIKDXWs9Vg', 'UCLP23oS0BjCxT3oINyCTyTQ', 'UCm8ON35izf8wRRvL1MyPcKQ', 'UC_n7oCjOOb_Hxw5t2Iu7MDQ', 'UCQH7o2B25dZem6NLppb-ftg', 'UCAPw1N3BiVWTW6T-I2ReBWg', 'UC779g1pmBTC7_ERF_Sw2BZA', 'UCTqGjq53ooqx_a6vF9524jQ', 'UCzzOKT1SkE7qdycJvPCR3Gg', 'UCx28CoSFG4aRCulHhIut34A', 'UCGospnCyl_T31tyGlYQlKhg', 'UC5dW3NB_m2YtOGahPi04ipQ', 'UCFY9Pa4C8AnXUEDkWg_AttA', 'UCdqYFO2g7GR6KfN8oGCufKA', 'UCdTlVQ7kZO6qneYnUehMpRQ', 'UCjczStCvbF1y6FygTnVT6kg', 'UCVDyPqUG4KirRrY0TPGh0xg', 'UCgsK1fSb5HjH7RKEfbfUPqA', 'UCnC62k94_r8UdQOM9DePs2w', 'UCXw65Crzx0O-ZZ2efhEh34w', 'UCD1YqRGvdmC9BqbsSXY-Znw']\n",
      "50\n"
     ]
    }
   ],
   "source": [
    "channel_id_list=[]\n",
    "channel_id_list=get_channel_id_list(list_sauf_channel, channel_id_list)\n",
    "print(channel_id_list)\n",
    "print(len(channel_id_list))"
   ]
  },
  {
   "cell_type": "code",
   "execution_count": 21,
   "metadata": {},
   "outputs": [],
   "source": [
    "#获取频道的id和视频标题\n",
    "def get_channel_ID_title_list(channel_id_list):\n",
    "    youtube = build('youtube', 'v3', developerKey=api_key)\n",
    "    channel_ID_title_dic = {}\n",
    "    for channel_id in channel_id_list:\n",
    "        request = youtube.channels().list(\n",
    "            part=\"snippet\",\n",
    "            id=channel_id\n",
    "        )\n",
    "        response = request.execute()\n",
    "        channel_title = response['items'][0]['snippet']['title']\n",
    "        channel_ID_title_dic[channel_id] = channel_title\n",
    "    return channel_ID_title_dic"
   ]
  },
  {
   "cell_type": "code",
   "execution_count": 22,
   "metadata": {},
   "outputs": [
    {
     "name": "stdout",
     "output_type": "stream",
     "text": [
      "{'UC07y7iTnGdPVAmXM4a5L4Lw': 'Will and Jenna', 'UCi1iEmFwYNdlIcVD7wQOZkQ': 'Badura Twins', 'UC9siCrfH9s9xi81j_HZ6v2g': 'Kerry Spence', 'UCS7SSybHozNW41KGfS1HeDw': 'GLAZD JEWELS', 'UCs0YbZMZhcK1-zlnquUmXzQ': 'Carter Kench', 'UCA0oZ63wytik-f8HCz_umEQ': 'Jenna Sinatra', 'UCa9siXYE9McabZSTOkhnUtg': 'Kerina Wang', 'UCxB7jMnHekMzHsOl9iZpXrA': 'Danny Rayes', 'UCmiRYR2EBAyj1daXoeKgA3w': 'Queen Val Livin', 'UCHovuVgjU-NbdrvE2T71G9Q': 'Daisy', 'UCAYZMd0jq17keWZ_ePj7D9A': 'Audrey D Loves', 'UCN772dQe9Cf8fHfRj0-1Dow': 'Life with lay', 'UCqQ7QD3Jx3E3x1SiUMBGA0Q': 'Rose 🫶🏽', 'UCVoNavsZWF2v-aJmCJECveA': 'Prymrr', 'UCBLzhBiZVCy0MDyhv6rceJQ': 'Sarah Betts', 'UC_4d9fv7RlSG3SmJCufn5rw': 'Ella Pretty', 'UCo3pd8GKCCbmr7j3GtWXtHQ': 'Jen On Demand', 'UCHb7zVC1mahUD0ZE7FzkFdg': 'Hotmess Momma Vlogs', 'UCUlv7OfOe60ypHRuBPuGoRg': 'AA Selin ', 'UCUkA1AvpQvlxn6Dx_lgSsuw': 'Bia’z lifestyle', 'UCejRq8yH9ZVEOAgNu-LBHxA': 'Morgan Leah', 'UCSy6z702Agxpi9hFdRXwucg': 'Isabela Juliana', 'UCSTF94p_V8BFmeae8w4XkPg': 'Eileen Lazazzera ', 'UCjacRo8crmvJuQt6nyFXyBg': 'LIVEKINDLY', 'UCzYwArlTP8OLsROCsEIYaww': 'Marisa Marie', 'UCXony-AJugf4nmQmN1CIIng': 'Thania Gonzalez', 'UCil5C5LHxeMD-uIatMBT3EQ': 'Loren Rosko', 'UCSvCxPPKTHkVQC8My9Aye-w': 'Just.Alana', 'UCucot-Zp428OwkyRm2I7v2Q': 'James Charles', 'UCetWvHjRQ2tHCwIKDXWs9Vg': 'Olwethu Ndlanya', 'UCLP23oS0BjCxT3oINyCTyTQ': 'katherine 🍓', 'UCm8ON35izf8wRRvL1MyPcKQ': 'Bronniee', 'UC_n7oCjOOb_Hxw5t2Iu7MDQ': 'May Films', 'UCQH7o2B25dZem6NLppb-ftg': 'Sahar Nawaz', 'UCAPw1N3BiVWTW6T-I2ReBWg': 'courtreezy', 'UC779g1pmBTC7_ERF_Sw2BZA': '1uvneha', 'UCTqGjq53ooqx_a6vF9524jQ': 'Rosie Tilley', 'UCzzOKT1SkE7qdycJvPCR3Gg': 'Mia Maples', 'UCx28CoSFG4aRCulHhIut34A': 'Tasha St James', 'UCGospnCyl_T31tyGlYQlKhg': 'Annesha Adams', 'UC5dW3NB_m2YtOGahPi04ipQ': 'FunTastic Rayyan', 'UCFY9Pa4C8AnXUEDkWg_AttA': 'Mimi Siswana', 'UCdqYFO2g7GR6KfN8oGCufKA': 'Pretty Zaza', 'UCdTlVQ7kZO6qneYnUehMpRQ': 'Deliaaaa', 'UCjczStCvbF1y6FygTnVT6kg': 'Christie en toute simplicité', 'UCVDyPqUG4KirRrY0TPGh0xg': 'Silvia en tu Vida', 'UCgsK1fSb5HjH7RKEfbfUPqA': 'Laulilaulita', 'UCnC62k94_r8UdQOM9DePs2w': 'KNLST', 'UCXw65Crzx0O-ZZ2efhEh34w': 'Ahlem Nahari', 'UCD1YqRGvdmC9BqbsSXY-Znw': 'Im Giislaine?'}\n",
      "50\n"
     ]
    }
   ],
   "source": [
    "channel_ID_title_dic=get_channel_ID_title_list(channel_id_list)\n",
    "print(channel_ID_title_dic)\n",
    "print(len(channel_ID_title_dic))"
   ]
  },
  {
   "cell_type": "markdown",
   "metadata": {},
   "source": [
    "## 直接从这里开始"
   ]
  },
  {
   "cell_type": "code",
   "execution_count": 2,
   "metadata": {},
   "outputs": [],
   "source": [
    "channel_id_list=['UC07y7iTnGdPVAmXM4a5L4Lw', 'UCi1iEmFwYNdlIcVD7wQOZkQ', 'UC9siCrfH9s9xi81j_HZ6v2g', 'UCS7SSybHozNW41KGfS1HeDw', 'UCs0YbZMZhcK1-zlnquUmXzQ',\n",
    "                 'UCA0oZ63wytik-f8HCz_umEQ', 'UCa9siXYE9McabZSTOkhnUtg', 'UCxB7jMnHekMzHsOl9iZpXrA', 'UCmiRYR2EBAyj1daXoeKgA3w', 'UCHovuVgjU-NbdrvE2T71G9Q',\n",
    "                 'UCAYZMd0jq17keWZ_ePj7D9A', 'UCN772dQe9Cf8fHfRj0-1Dow', 'UCqQ7QD3Jx3E3x1SiUMBGA0Q', 'UCVoNavsZWF2v-aJmCJECveA', 'UCBLzhBiZVCy0MDyhv6rceJQ', \n",
    "                 'UC_4d9fv7RlSG3SmJCufn5rw', 'UCo3pd8GKCCbmr7j3GtWXtHQ', 'UCHb7zVC1mahUD0ZE7FzkFdg', 'UCUlv7OfOe60ypHRuBPuGoRg', 'UCUkA1AvpQvlxn6Dx_lgSsuw', \n",
    "                 'UCejRq8yH9ZVEOAgNu-LBHxA', 'UCSy6z702Agxpi9hFdRXwucg', 'UCSTF94p_V8BFmeae8w4XkPg', 'UCjacRo8crmvJuQt6nyFXyBg', 'UCzYwArlTP8OLsROCsEIYaww', \n",
    "                 'UCXony-AJugf4nmQmN1CIIng', 'UCil5C5LHxeMD-uIatMBT3EQ', 'UCSvCxPPKTHkVQC8My9Aye-w', 'UCucot-Zp428OwkyRm2I7v2Q', 'UCetWvHjRQ2tHCwIKDXWs9Vg', \n",
    "                 'UCLP23oS0BjCxT3oINyCTyTQ', 'UCm8ON35izf8wRRvL1MyPcKQ', 'UC_n7oCjOOb_Hxw5t2Iu7MDQ', 'UCQH7o2B25dZem6NLppb-ftg', 'UCAPw1N3BiVWTW6T-I2ReBWg', \n",
    "                 'UC779g1pmBTC7_ERF_Sw2BZA', 'UCTqGjq53ooqx_a6vF9524jQ', 'UCzzOKT1SkE7qdycJvPCR3Gg', 'UCx28CoSFG4aRCulHhIut34A', 'UCGospnCyl_T31tyGlYQlKhg',\n",
    "                 'UC5dW3NB_m2YtOGahPi04ipQ', 'UCFY9Pa4C8AnXUEDkWg_AttA', 'UCdqYFO2g7GR6KfN8oGCufKA', 'UCdTlVQ7kZO6qneYnUehMpRQ', 'UCjczStCvbF1y6FygTnVT6kg', \n",
    "                 'UCVDyPqUG4KirRrY0TPGh0xg', 'UCgsK1fSb5HjH7RKEfbfUPqA', 'UCnC62k94_r8UdQOM9DePs2w', 'UCXw65Crzx0O-ZZ2efhEh34w', 'UCD1YqRGvdmC9BqbsSXY-Znw']"
   ]
  },
  {
   "cell_type": "code",
   "execution_count": 5,
   "metadata": {},
   "outputs": [],
   "source": [
    "channel_id_list=['UCD1YqRGvdmC9BqbsSXY-Znw']"
   ]
  },
  {
   "cell_type": "code",
   "execution_count": 6,
   "metadata": {},
   "outputs": [],
   "source": [
    "class Crawler:\n",
    "    def __init__(self, api_key):\n",
    "        self.api_key = api_key\n",
    "        self.youtube = build('youtube', 'v3', developerKey=self.api_key)\n",
    "    def get_video_statistics(self, channel_id):\n",
    "        videos = []\n",
    "        page_token = None\n",
    "\n",
    "        while True:\n",
    "            request = self.youtube.search().list(\n",
    "                q=\"SHEIN haul\",\n",
    "                part=\"id,snippet\",\n",
    "                type=\"video\",\n",
    "                channelId=channel_id,\n",
    "                maxResults=50,\n",
    "                pageToken=page_token\n",
    "            )\n",
    "            response = request.execute()\n",
    "\n",
    "            for item in response['items']:\n",
    "                video_id = item['id']['videoId']\n",
    "                video_info = self.youtube.videos().list(part=\"statistics,contentDetails,snippet,topicDetails\", id=video_id).execute()\n",
    "                like_count = video_info['items'][0]['statistics'].get('likeCount', '0')\n",
    "                dislike_count = video_info['items'][0]['statistics'].get('dislikeCount', '0')\n",
    "                comment_count = video_info['items'][0]['statistics'].get('commentCount', '0')\n",
    "                view_count = video_info['items'][0]['statistics'].get('viewCount', '0')\n",
    "                duration = video_info['items'][0]['contentDetails']['duration']\n",
    "                description = video_info['items'][0]['snippet']['description']\n",
    "                published_at = item['snippet']['publishedAt'][:10]  # Get the date part of the timestamp\n",
    "                contains_paid_promotion = video_info['items'][0]['contentDetails'].get('containsPaidPromotion', False)  # Get the paid promotion info\n",
    "                time.sleep(1)\n",
    "\n",
    "                videos.append({\n",
    "                    'videoId': video_id,\n",
    "                    'title': item['snippet']['title'],\n",
    "                    'likeCount': like_count,\n",
    "                    'dislikeCount': dislike_count,\n",
    "                    'commentCount': comment_count,\n",
    "                    'date': published_at,  # Add the published date to the video info\n",
    "                    'viewCount': view_count,\n",
    "                    'duration': duration,\n",
    "                    'description': description,  # Add the video description to the video info\n",
    "                    'PaidProduct': contains_paid_promotion  # Add the paid promotion info to the video info\n",
    "                })\n",
    "\n",
    "            page_token = response.get('nextPageToken')\n",
    "\n",
    "            if not page_token:\n",
    "                break\n",
    "        return videos\n",
    "\n",
    "    def get_channel_statistics(self, channel_id_list):\n",
    "        for channel_id in channel_id_list:\n",
    "            channels = []\n",
    "            channel_info = self.youtube.channels().list(part=\"statistics,snippet\", id=channel_id).execute()\n",
    "            subscriber_count = channel_info['items'][0]['statistics']['subscriberCount']\n",
    "            country = channel_info['items'][0]['snippet'].get('country', '')\n",
    "            creation_date = channel_info['items'][0]['snippet']['publishedAt'][:10]  # Get the creation date of the channel\n",
    "\n",
    "            shein_videos = self.get_video_statistics(channel_id)\n",
    "            shein_video_count = len(shein_videos)\n",
    "\n",
    "            haul_video_count = sum(1 for video in shein_videos if 'haul' in video['title'].lower())\n",
    "            \n",
    "            for video in shein_videos:\n",
    "                channels.append({\n",
    "                    'channelId': channel_id,\n",
    "                    'channelTitle': channel_info['items'][0]['snippet']['title'],\n",
    "                    'creationDate': creation_date,  # Add the creation date to the channel info\n",
    "                    'pays': country,\n",
    "                    'viewCount': channel_info['items'][0]['statistics']['viewCount'],\n",
    "                    'subscriberCount': subscriber_count,\n",
    "                    'videoCount': channel_info['items'][0]['statistics']['videoCount'],\n",
    "                    'HaulVideoCount': haul_video_count,\n",
    "                    'SheinHaulVideoCount': shein_video_count,\n",
    "                    'SheinHaulVideoId': video['videoId'],\n",
    "                    'SHvideoTitle': video['title'],\n",
    "                    'SHvideoLikeCount': video['likeCount'],\n",
    "                    'SHvideoDislikeCount': video['dislikeCount'],\n",
    "                    'SHvideoCommentCount': video['commentCount'],\n",
    "                    'SHVideoViewCount': video['viewCount'],\n",
    "                    'SHvideoDate': video['date'],\n",
    "                    'SHVideodurée': video['duration'],\n",
    "                    'SHVideoPaidProduct': video['PaidProduct'],\n",
    "                    'SHvideoDescription': video['description']\n",
    "                })\n",
    "\n",
    "            with open(f'SheinHaul_channel_video_statistics.csv', 'a', newline='', encoding='utf-8') as file:\n",
    "                    writer = csv.DictWriter(file, fieldnames=channels[0].keys())\n",
    "                    if file.tell() == 0:  # Write header only once\n",
    "                        writer.writeheader()\n",
    "                    writer.writerows(channels)\n",
    "            #time.sleep(1)"
   ]
  },
  {
   "cell_type": "code",
   "execution_count": 7,
   "metadata": {},
   "outputs": [],
   "source": [
    "Crawler('').get_channel_statistics(channel_id_list)"
   ]
  }
 ],
 "metadata": {
  "kernelspec": {
   "display_name": "base",
   "language": "python",
   "name": "python3"
  },
  "language_info": {
   "codemirror_mode": {
    "name": "ipython",
    "version": 3
   },
   "file_extension": ".py",
   "mimetype": "text/x-python",
   "name": "python",
   "nbconvert_exporter": "python",
   "pygments_lexer": "ipython3",
   "version": "3.12.0"
  }
 },
 "nbformat": 4,
 "nbformat_minor": 2
}
